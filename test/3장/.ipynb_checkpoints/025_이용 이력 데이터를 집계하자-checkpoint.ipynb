{
 "cells": [
  {
   "cell_type": "code",
   "execution_count": 1,
   "id": "8a822459",
   "metadata": {},
   "outputs": [
    {
     "name": "stdout",
     "output_type": "stream",
     "text": [
      "197428\n"
     ]
    },
    {
     "data": {
      "text/html": [
       "<div>\n",
       "<style scoped>\n",
       "    .dataframe tbody tr th:only-of-type {\n",
       "        vertical-align: middle;\n",
       "    }\n",
       "\n",
       "    .dataframe tbody tr th {\n",
       "        vertical-align: top;\n",
       "    }\n",
       "\n",
       "    .dataframe thead th {\n",
       "        text-align: right;\n",
       "    }\n",
       "</style>\n",
       "<table border=\"1\" class=\"dataframe\">\n",
       "  <thead>\n",
       "    <tr style=\"text-align: right;\">\n",
       "      <th></th>\n",
       "      <th>log_id</th>\n",
       "      <th>customer_id</th>\n",
       "      <th>usedate</th>\n",
       "    </tr>\n",
       "  </thead>\n",
       "  <tbody>\n",
       "    <tr>\n",
       "      <th>0</th>\n",
       "      <td>L00000049012330</td>\n",
       "      <td>AS009373</td>\n",
       "      <td>2018-04-01</td>\n",
       "    </tr>\n",
       "    <tr>\n",
       "      <th>1</th>\n",
       "      <td>L00000049012331</td>\n",
       "      <td>AS015315</td>\n",
       "      <td>2018-04-01</td>\n",
       "    </tr>\n",
       "    <tr>\n",
       "      <th>2</th>\n",
       "      <td>L00000049012332</td>\n",
       "      <td>AS040841</td>\n",
       "      <td>2018-04-01</td>\n",
       "    </tr>\n",
       "    <tr>\n",
       "      <th>3</th>\n",
       "      <td>L00000049012333</td>\n",
       "      <td>AS046594</td>\n",
       "      <td>2018-04-01</td>\n",
       "    </tr>\n",
       "    <tr>\n",
       "      <th>4</th>\n",
       "      <td>L00000049012334</td>\n",
       "      <td>AS073285</td>\n",
       "      <td>2018-04-01</td>\n",
       "    </tr>\n",
       "  </tbody>\n",
       "</table>\n",
       "</div>"
      ],
      "text/plain": [
       "            log_id customer_id     usedate\n",
       "0  L00000049012330    AS009373  2018-04-01\n",
       "1  L00000049012331    AS015315  2018-04-01\n",
       "2  L00000049012332    AS040841  2018-04-01\n",
       "3  L00000049012333    AS046594  2018-04-01\n",
       "4  L00000049012334    AS073285  2018-04-01"
      ]
     },
     "execution_count": 1,
     "metadata": {},
     "output_type": "execute_result"
    }
   ],
   "source": [
    "import pandas as pd\n",
    "uselog = pd.read_csv('use_log.csv')\n",
    "print(len(uselog))\n",
    "uselog.head()\n",
    "\n",
    "# 고객 ID, 이용일을 포함한 간단한 데이터이다\n",
    "# 어떤 고객이 언제 센터를 방문했는지 알수있다\n",
    "# 197,428 건으로 세로로 긴 데이터"
   ]
  },
  {
   "cell_type": "code",
   "execution_count": 2,
   "id": "2bbd6552",
   "metadata": {},
   "outputs": [
    {
     "name": "stdout",
     "output_type": "stream",
     "text": [
      "4192\n"
     ]
    },
    {
     "data": {
      "text/html": [
       "<div>\n",
       "<style scoped>\n",
       "    .dataframe tbody tr th:only-of-type {\n",
       "        vertical-align: middle;\n",
       "    }\n",
       "\n",
       "    .dataframe tbody tr th {\n",
       "        vertical-align: top;\n",
       "    }\n",
       "\n",
       "    .dataframe thead th {\n",
       "        text-align: right;\n",
       "    }\n",
       "</style>\n",
       "<table border=\"1\" class=\"dataframe\">\n",
       "  <thead>\n",
       "    <tr style=\"text-align: right;\">\n",
       "      <th></th>\n",
       "      <th>customer_id</th>\n",
       "      <th>name</th>\n",
       "      <th>class</th>\n",
       "      <th>gender</th>\n",
       "      <th>start_date</th>\n",
       "      <th>end_date</th>\n",
       "      <th>campaign_id</th>\n",
       "      <th>is_deleted</th>\n",
       "    </tr>\n",
       "  </thead>\n",
       "  <tbody>\n",
       "    <tr>\n",
       "      <th>0</th>\n",
       "      <td>OA832399</td>\n",
       "      <td>XXXX</td>\n",
       "      <td>C01</td>\n",
       "      <td>F</td>\n",
       "      <td>2015-05-01 00:00:00</td>\n",
       "      <td>NaN</td>\n",
       "      <td>CA1</td>\n",
       "      <td>0</td>\n",
       "    </tr>\n",
       "    <tr>\n",
       "      <th>1</th>\n",
       "      <td>PL270116</td>\n",
       "      <td>XXXXX</td>\n",
       "      <td>C01</td>\n",
       "      <td>M</td>\n",
       "      <td>2015-05-01 00:00:00</td>\n",
       "      <td>NaN</td>\n",
       "      <td>CA1</td>\n",
       "      <td>0</td>\n",
       "    </tr>\n",
       "    <tr>\n",
       "      <th>2</th>\n",
       "      <td>OA974876</td>\n",
       "      <td>XXXXX</td>\n",
       "      <td>C01</td>\n",
       "      <td>M</td>\n",
       "      <td>2015-05-01 00:00:00</td>\n",
       "      <td>NaN</td>\n",
       "      <td>CA1</td>\n",
       "      <td>0</td>\n",
       "    </tr>\n",
       "    <tr>\n",
       "      <th>3</th>\n",
       "      <td>HD024127</td>\n",
       "      <td>XXXXX</td>\n",
       "      <td>C01</td>\n",
       "      <td>F</td>\n",
       "      <td>2015-05-01 00:00:00</td>\n",
       "      <td>NaN</td>\n",
       "      <td>CA1</td>\n",
       "      <td>0</td>\n",
       "    </tr>\n",
       "    <tr>\n",
       "      <th>4</th>\n",
       "      <td>HD661448</td>\n",
       "      <td>XXXXX</td>\n",
       "      <td>C03</td>\n",
       "      <td>F</td>\n",
       "      <td>2015-05-01 00:00:00</td>\n",
       "      <td>NaN</td>\n",
       "      <td>CA1</td>\n",
       "      <td>0</td>\n",
       "    </tr>\n",
       "  </tbody>\n",
       "</table>\n",
       "</div>"
      ],
      "text/plain": [
       "  customer_id   name class gender           start_date end_date campaign_id  \\\n",
       "0    OA832399   XXXX   C01      F  2015-05-01 00:00:00      NaN         CA1   \n",
       "1    PL270116  XXXXX   C01      M  2015-05-01 00:00:00      NaN         CA1   \n",
       "2    OA974876  XXXXX   C01      M  2015-05-01 00:00:00      NaN         CA1   \n",
       "3    HD024127  XXXXX   C01      F  2015-05-01 00:00:00      NaN         CA1   \n",
       "4    HD661448  XXXXX   C03      F  2015-05-01 00:00:00      NaN         CA1   \n",
       "\n",
       "   is_deleted  \n",
       "0           0  \n",
       "1           0  \n",
       "2           0  \n",
       "3           0  \n",
       "4           0  "
      ]
     },
     "execution_count": 2,
     "metadata": {},
     "output_type": "execute_result"
    }
   ],
   "source": [
    "customer = pd.read_csv('customer_master.csv')\n",
    "print(len(customer))\n",
    "customer.head()\n",
    "\n",
    "# customer_id 로 위 데이터와 연결시킬수있다는것을 알수있다"
   ]
  },
  {
   "cell_type": "code",
   "execution_count": 3,
   "id": "a92ef6a6",
   "metadata": {},
   "outputs": [
    {
     "name": "stdout",
     "output_type": "stream",
     "text": [
      "3\n"
     ]
    },
    {
     "data": {
      "text/html": [
       "<div>\n",
       "<style scoped>\n",
       "    .dataframe tbody tr th:only-of-type {\n",
       "        vertical-align: middle;\n",
       "    }\n",
       "\n",
       "    .dataframe tbody tr th {\n",
       "        vertical-align: top;\n",
       "    }\n",
       "\n",
       "    .dataframe thead th {\n",
       "        text-align: right;\n",
       "    }\n",
       "</style>\n",
       "<table border=\"1\" class=\"dataframe\">\n",
       "  <thead>\n",
       "    <tr style=\"text-align: right;\">\n",
       "      <th></th>\n",
       "      <th>class</th>\n",
       "      <th>class_name</th>\n",
       "      <th>price</th>\n",
       "    </tr>\n",
       "  </thead>\n",
       "  <tbody>\n",
       "    <tr>\n",
       "      <th>0</th>\n",
       "      <td>C01</td>\n",
       "      <td>0_종일</td>\n",
       "      <td>10500</td>\n",
       "    </tr>\n",
       "    <tr>\n",
       "      <th>1</th>\n",
       "      <td>C02</td>\n",
       "      <td>1_주간</td>\n",
       "      <td>7500</td>\n",
       "    </tr>\n",
       "    <tr>\n",
       "      <th>2</th>\n",
       "      <td>C03</td>\n",
       "      <td>2_야간</td>\n",
       "      <td>6000</td>\n",
       "    </tr>\n",
       "  </tbody>\n",
       "</table>\n",
       "</div>"
      ],
      "text/plain": [
       "  class class_name  price\n",
       "0   C01       0_종일  10500\n",
       "1   C02       1_주간   7500\n",
       "2   C03       2_야간   6000"
      ]
     },
     "execution_count": 3,
     "metadata": {},
     "output_type": "execute_result"
    }
   ],
   "source": [
    "class_master = pd.read_csv('class_master.csv')\n",
    "print(len(class_master))\n",
    "class_master.head()"
   ]
  },
  {
   "cell_type": "code",
   "execution_count": 4,
   "id": "55328df9",
   "metadata": {},
   "outputs": [
    {
     "name": "stdout",
     "output_type": "stream",
     "text": [
      "3\n"
     ]
    },
    {
     "data": {
      "text/html": [
       "<div>\n",
       "<style scoped>\n",
       "    .dataframe tbody tr th:only-of-type {\n",
       "        vertical-align: middle;\n",
       "    }\n",
       "\n",
       "    .dataframe tbody tr th {\n",
       "        vertical-align: top;\n",
       "    }\n",
       "\n",
       "    .dataframe thead th {\n",
       "        text-align: right;\n",
       "    }\n",
       "</style>\n",
       "<table border=\"1\" class=\"dataframe\">\n",
       "  <thead>\n",
       "    <tr style=\"text-align: right;\">\n",
       "      <th></th>\n",
       "      <th>campaign_id</th>\n",
       "      <th>campaign_name</th>\n",
       "    </tr>\n",
       "  </thead>\n",
       "  <tbody>\n",
       "    <tr>\n",
       "      <th>0</th>\n",
       "      <td>CA1</td>\n",
       "      <td>2_일반</td>\n",
       "    </tr>\n",
       "    <tr>\n",
       "      <th>1</th>\n",
       "      <td>CA2</td>\n",
       "      <td>0_입회비반액할인</td>\n",
       "    </tr>\n",
       "    <tr>\n",
       "      <th>2</th>\n",
       "      <td>CA3</td>\n",
       "      <td>1_입회비무료</td>\n",
       "    </tr>\n",
       "  </tbody>\n",
       "</table>\n",
       "</div>"
      ],
      "text/plain": [
       "  campaign_id campaign_name\n",
       "0         CA1          2_일반\n",
       "1         CA2     0_입회비반액할인\n",
       "2         CA3       1_입회비무료"
      ]
     },
     "execution_count": 4,
     "metadata": {},
     "output_type": "execute_result"
    }
   ],
   "source": [
    "campaign_master = pd.read_csv('campaign_master.csv')\n",
    "print(len(campaign_master))\n",
    "campaign_master.head()"
   ]
  },
  {
   "cell_type": "markdown",
   "id": "ebd217c5",
   "metadata": {},
   "source": [
    "### 022_고객 데이터를 가공하자"
   ]
  },
  {
   "cell_type": "code",
   "execution_count": 5,
   "id": "8e4393ea",
   "metadata": {},
   "outputs": [
    {
     "data": {
      "text/html": [
       "<div>\n",
       "<style scoped>\n",
       "    .dataframe tbody tr th:only-of-type {\n",
       "        vertical-align: middle;\n",
       "    }\n",
       "\n",
       "    .dataframe tbody tr th {\n",
       "        vertical-align: top;\n",
       "    }\n",
       "\n",
       "    .dataframe thead th {\n",
       "        text-align: right;\n",
       "    }\n",
       "</style>\n",
       "<table border=\"1\" class=\"dataframe\">\n",
       "  <thead>\n",
       "    <tr style=\"text-align: right;\">\n",
       "      <th></th>\n",
       "      <th>customer_id</th>\n",
       "      <th>name</th>\n",
       "      <th>class</th>\n",
       "      <th>gender</th>\n",
       "      <th>start_date</th>\n",
       "      <th>end_date</th>\n",
       "      <th>campaign_id</th>\n",
       "      <th>is_deleted</th>\n",
       "      <th>class_name</th>\n",
       "      <th>price</th>\n",
       "      <th>campaign_name</th>\n",
       "    </tr>\n",
       "  </thead>\n",
       "  <tbody>\n",
       "    <tr>\n",
       "      <th>0</th>\n",
       "      <td>OA832399</td>\n",
       "      <td>XXXX</td>\n",
       "      <td>C01</td>\n",
       "      <td>F</td>\n",
       "      <td>2015-05-01 00:00:00</td>\n",
       "      <td>NaN</td>\n",
       "      <td>CA1</td>\n",
       "      <td>0</td>\n",
       "      <td>0_종일</td>\n",
       "      <td>10500</td>\n",
       "      <td>2_일반</td>\n",
       "    </tr>\n",
       "    <tr>\n",
       "      <th>1</th>\n",
       "      <td>PL270116</td>\n",
       "      <td>XXXXX</td>\n",
       "      <td>C01</td>\n",
       "      <td>M</td>\n",
       "      <td>2015-05-01 00:00:00</td>\n",
       "      <td>NaN</td>\n",
       "      <td>CA1</td>\n",
       "      <td>0</td>\n",
       "      <td>0_종일</td>\n",
       "      <td>10500</td>\n",
       "      <td>2_일반</td>\n",
       "    </tr>\n",
       "    <tr>\n",
       "      <th>2</th>\n",
       "      <td>OA974876</td>\n",
       "      <td>XXXXX</td>\n",
       "      <td>C01</td>\n",
       "      <td>M</td>\n",
       "      <td>2015-05-01 00:00:00</td>\n",
       "      <td>NaN</td>\n",
       "      <td>CA1</td>\n",
       "      <td>0</td>\n",
       "      <td>0_종일</td>\n",
       "      <td>10500</td>\n",
       "      <td>2_일반</td>\n",
       "    </tr>\n",
       "    <tr>\n",
       "      <th>3</th>\n",
       "      <td>HD024127</td>\n",
       "      <td>XXXXX</td>\n",
       "      <td>C01</td>\n",
       "      <td>F</td>\n",
       "      <td>2015-05-01 00:00:00</td>\n",
       "      <td>NaN</td>\n",
       "      <td>CA1</td>\n",
       "      <td>0</td>\n",
       "      <td>0_종일</td>\n",
       "      <td>10500</td>\n",
       "      <td>2_일반</td>\n",
       "    </tr>\n",
       "    <tr>\n",
       "      <th>4</th>\n",
       "      <td>HD661448</td>\n",
       "      <td>XXXXX</td>\n",
       "      <td>C03</td>\n",
       "      <td>F</td>\n",
       "      <td>2015-05-01 00:00:00</td>\n",
       "      <td>NaN</td>\n",
       "      <td>CA1</td>\n",
       "      <td>0</td>\n",
       "      <td>2_야간</td>\n",
       "      <td>6000</td>\n",
       "      <td>2_일반</td>\n",
       "    </tr>\n",
       "  </tbody>\n",
       "</table>\n",
       "</div>"
      ],
      "text/plain": [
       "  customer_id   name class gender           start_date end_date campaign_id  \\\n",
       "0    OA832399   XXXX   C01      F  2015-05-01 00:00:00      NaN         CA1   \n",
       "1    PL270116  XXXXX   C01      M  2015-05-01 00:00:00      NaN         CA1   \n",
       "2    OA974876  XXXXX   C01      M  2015-05-01 00:00:00      NaN         CA1   \n",
       "3    HD024127  XXXXX   C01      F  2015-05-01 00:00:00      NaN         CA1   \n",
       "4    HD661448  XXXXX   C03      F  2015-05-01 00:00:00      NaN         CA1   \n",
       "\n",
       "   is_deleted class_name  price campaign_name  \n",
       "0           0       0_종일  10500          2_일반  \n",
       "1           0       0_종일  10500          2_일반  \n",
       "2           0       0_종일  10500          2_일반  \n",
       "3           0       0_종일  10500          2_일반  \n",
       "4           0       2_야간   6000          2_일반  "
      ]
     },
     "execution_count": 5,
     "metadata": {},
     "output_type": "execute_result"
    }
   ],
   "source": [
    "# class_master 과 campaign_master 를 결합해서 customer_master 을 새로 생성한다\n",
    "\n",
    "customer_join = pd.merge(customer, class_master, on=\"class\", how=\"left\")\n",
    "customer_join = pd.merge(customer_join, campaign_master, on=\"campaign_id\", how=\"left\")\n",
    "customer_join.head()\n",
    "\n",
    "# merge 는 공통의 열을 기준으로 두 데이터 프레임을 합쳐준다\n",
    "# 기준열 이름이 같을때\n",
    "# pd.merge(left, right, on = '기준열', how = '조인방식')\n",
    "\n",
    "# 기준열 이름이 다를때\n",
    "# pd.merge(left, right, left_on = '왼쪽열', rigth_on = '오른쪽열', how = '조인방식')\n",
    "\n",
    "# left : 왼쪽 데이터 프레임\n",
    "# right : 오른쪽 데이터 프레임\n",
    "# on : (두 데이터 프레임의 기준열 이름이 같을때) 기준열\n",
    "# how : 조인 방식 {'left','right','inner','outer'} 기본값은 'inner'\n",
    "\n",
    "# left_on : 기준열 이름이 다를때, 왼쪽 기준열\n",
    "# right_on : 기준열 이름이 다를때, 오른쪽 기준열"
   ]
  },
  {
   "cell_type": "code",
   "execution_count": 6,
   "id": "c2b3391e",
   "metadata": {},
   "outputs": [
    {
     "name": "stdout",
     "output_type": "stream",
     "text": [
      "4192\n",
      "4192\n"
     ]
    }
   ],
   "source": [
    "print(len(customer))\n",
    "print(len(customer_join))\n",
    "\n",
    "# len 함수는 내부에 있는 문자의 개수(공백포함) 을\n",
    "# 계산해서 반환해주는 함수이다"
   ]
  },
  {
   "cell_type": "code",
   "execution_count": 7,
   "id": "d97c8dcb",
   "metadata": {},
   "outputs": [
    {
     "data": {
      "text/plain": [
       "customer_id         0\n",
       "name                0\n",
       "class               0\n",
       "gender              0\n",
       "start_date          0\n",
       "end_date         2842\n",
       "campaign_id         0\n",
       "is_deleted          0\n",
       "class_name          0\n",
       "price               0\n",
       "campaign_name       0\n",
       "dtype: int64"
      ]
     },
     "execution_count": 7,
     "metadata": {},
     "output_type": "execute_result"
    }
   ],
   "source": [
    "customer_join.isnull().sum()\n",
    "\n",
    "# end_date 외에는 결측치가 0 으로\n",
    "# 이번 조인에서 추가한 class_name, price, campaign_name 에는\n",
    "# 데이터가 정확하게 들어있는것을 확인할수있다\n",
    "\n",
    "# isnull() 을 이용하면 결손치가 반환된다\n",
    "# True/False = 결측값/아닌값 = 1/0\n",
    "# sum() 을 덧붙여 사용하면 각 칼럼마다\n",
    "# 결측치의 개수를 알수가있다."
   ]
  },
  {
   "cell_type": "markdown",
   "id": "98b318e5",
   "metadata": {},
   "source": [
    "### 023_고객 데이터를 집계하자"
   ]
  },
  {
   "cell_type": "code",
   "execution_count": 8,
   "id": "b9c576f3",
   "metadata": {},
   "outputs": [
    {
     "data": {
      "text/plain": [
       "class_name\n",
       "0_종일    2045\n",
       "1_주간    1019\n",
       "2_야간    1128\n",
       "Name: customer_id, dtype: int64"
      ]
     },
     "execution_count": 8,
     "metadata": {},
     "output_type": "execute_result"
    }
   ],
   "source": [
    "customer_join.groupby(\"class_name\").count()[\"customer_id\"]"
   ]
  },
  {
   "cell_type": "code",
   "execution_count": 9,
   "id": "bd09bd3f",
   "metadata": {},
   "outputs": [
    {
     "data": {
      "text/plain": [
       "campaign_name\n",
       "0_입회비반액할인     650\n",
       "1_입회비무료       492\n",
       "2_일반         3050\n",
       "Name: customer_id, dtype: int64"
      ]
     },
     "execution_count": 9,
     "metadata": {},
     "output_type": "execute_result"
    }
   ],
   "source": [
    "customer_join.groupby(\"campaign_name\").count()[\"customer_id\"]"
   ]
  },
  {
   "cell_type": "code",
   "execution_count": 10,
   "id": "fd7f8cd4",
   "metadata": {},
   "outputs": [
    {
     "data": {
      "text/plain": [
       "gender\n",
       "F    1983\n",
       "M    2209\n",
       "Name: customer_id, dtype: int64"
      ]
     },
     "execution_count": 10,
     "metadata": {},
     "output_type": "execute_result"
    }
   ],
   "source": [
    "customer_join.groupby(\"gender\").count()[\"customer_id\"]"
   ]
  },
  {
   "cell_type": "code",
   "execution_count": 11,
   "id": "8cc55381",
   "metadata": {},
   "outputs": [
    {
     "data": {
      "text/plain": [
       "is_deleted\n",
       "0    2842\n",
       "1    1350\n",
       "Name: customer_id, dtype: int64"
      ]
     },
     "execution_count": 11,
     "metadata": {},
     "output_type": "execute_result"
    }
   ],
   "source": [
    "customer_join.groupby(\"is_deleted\").count()[\"customer_id\"]"
   ]
  },
  {
   "cell_type": "code",
   "execution_count": 12,
   "id": "07783524",
   "metadata": {},
   "outputs": [
    {
     "name": "stdout",
     "output_type": "stream",
     "text": [
      "1361\n"
     ]
    }
   ],
   "source": [
    "customer_join[\"start_date\"] = pd.to_datetime(customer_join[\"start_date\"])\n",
    "customer_start = customer_join.loc[customer_join[\"start_date\"] > pd.to_datetime(\"20180401\")]\n",
    "print(len(customer_start))"
   ]
  },
  {
   "cell_type": "markdown",
   "id": "66dcc88c",
   "metadata": {},
   "source": [
    "### 024_최신 고객 데이터를 집계하자"
   ]
  },
  {
   "cell_type": "code",
   "execution_count": 13,
   "id": "26c22bf5",
   "metadata": {},
   "outputs": [
    {
     "name": "stdout",
     "output_type": "stream",
     "text": [
      "2953\n"
     ]
    },
    {
     "data": {
      "text/plain": [
       "array([                          'NaT', '2019-03-31T00:00:00.000000000'],\n",
       "      dtype='datetime64[ns]')"
      ]
     },
     "execution_count": 13,
     "metadata": {},
     "output_type": "execute_result"
    }
   ],
   "source": [
    "customer_join[\"end_date\"] = pd.to_datetime(customer_join[\"end_date\"])\n",
    "customer_newer = customer_join.loc[(customer_join[\"end_date\"] >= pd.to_datetime(\"20190331\")) | (customer_join[\"end_date\"].isna())]\n",
    "print(len(customer_newer))\n",
    "customer_newer[\"end_date\"].unique()"
   ]
  },
  {
   "cell_type": "code",
   "execution_count": 14,
   "id": "a9690c03",
   "metadata": {},
   "outputs": [
    {
     "data": {
      "text/plain": [
       "class_name\n",
       "0_종일    1444\n",
       "1_주간     696\n",
       "2_야간     813\n",
       "Name: customer_id, dtype: int64"
      ]
     },
     "execution_count": 14,
     "metadata": {},
     "output_type": "execute_result"
    }
   ],
   "source": [
    "customer_newer.groupby(\"class_name\").count()[\"customer_id\"]"
   ]
  },
  {
   "cell_type": "code",
   "execution_count": 15,
   "id": "cfda5b8a",
   "metadata": {},
   "outputs": [
    {
     "data": {
      "text/plain": [
       "campaign_name\n",
       "0_입회비반액할인     311\n",
       "1_입회비무료       242\n",
       "2_일반         2400\n",
       "Name: customer_id, dtype: int64"
      ]
     },
     "execution_count": 15,
     "metadata": {},
     "output_type": "execute_result"
    }
   ],
   "source": [
    "customer_newer.groupby(\"campaign_name\").count()[\"customer_id\"]"
   ]
  },
  {
   "cell_type": "code",
   "execution_count": 16,
   "id": "17d809c6",
   "metadata": {},
   "outputs": [
    {
     "data": {
      "text/plain": [
       "gender\n",
       "F    1400\n",
       "M    1553\n",
       "Name: customer_id, dtype: int64"
      ]
     },
     "execution_count": 16,
     "metadata": {},
     "output_type": "execute_result"
    }
   ],
   "source": [
    "customer_newer.groupby(\"gender\").count()[\"customer_id\"]"
   ]
  },
  {
   "cell_type": "markdown",
   "id": "48de6cd9",
   "metadata": {},
   "source": [
    "### 025_이용 이력 데이터를 집계하자"
   ]
  },
  {
   "cell_type": "code",
   "execution_count": 19,
   "id": "68372041",
   "metadata": {},
   "outputs": [
    {
     "data": {
      "text/html": [
       "<div>\n",
       "<style scoped>\n",
       "    .dataframe tbody tr th:only-of-type {\n",
       "        vertical-align: middle;\n",
       "    }\n",
       "\n",
       "    .dataframe tbody tr th {\n",
       "        vertical-align: top;\n",
       "    }\n",
       "\n",
       "    .dataframe thead th {\n",
       "        text-align: right;\n",
       "    }\n",
       "</style>\n",
       "<table border=\"1\" class=\"dataframe\">\n",
       "  <thead>\n",
       "    <tr style=\"text-align: right;\">\n",
       "      <th></th>\n",
       "      <th>연월</th>\n",
       "      <th>customer_id</th>\n",
       "      <th>count</th>\n",
       "    </tr>\n",
       "  </thead>\n",
       "  <tbody>\n",
       "    <tr>\n",
       "      <th>0</th>\n",
       "      <td>201804</td>\n",
       "      <td>AS002855</td>\n",
       "      <td>4</td>\n",
       "    </tr>\n",
       "    <tr>\n",
       "      <th>1</th>\n",
       "      <td>201804</td>\n",
       "      <td>AS009013</td>\n",
       "      <td>2</td>\n",
       "    </tr>\n",
       "    <tr>\n",
       "      <th>2</th>\n",
       "      <td>201804</td>\n",
       "      <td>AS009373</td>\n",
       "      <td>3</td>\n",
       "    </tr>\n",
       "    <tr>\n",
       "      <th>3</th>\n",
       "      <td>201804</td>\n",
       "      <td>AS015315</td>\n",
       "      <td>6</td>\n",
       "    </tr>\n",
       "    <tr>\n",
       "      <th>4</th>\n",
       "      <td>201804</td>\n",
       "      <td>AS015739</td>\n",
       "      <td>7</td>\n",
       "    </tr>\n",
       "  </tbody>\n",
       "</table>\n",
       "</div>"
      ],
      "text/plain": [
       "       연월 customer_id  count\n",
       "0  201804    AS002855      4\n",
       "1  201804    AS009013      2\n",
       "2  201804    AS009373      3\n",
       "3  201804    AS015315      6\n",
       "4  201804    AS015739      7"
      ]
     },
     "execution_count": 19,
     "metadata": {},
     "output_type": "execute_result"
    }
   ],
   "source": [
    "uselog[\"usedate\"] = pd.to_datetime(uselog[\"usedate\"])\n",
    "uselog[\"연월\"] = uselog[\"usedate\"].dt.strftime(\"%Y%m\")\n",
    "uselog_months = uselog.groupby([\"연월\",\"customer_id\"],as_index=False).count()\n",
    "uselog_months.rename(columns={\"log_id\":\"count\"}, inplace=True)\n",
    "del uselog_months[\"usedate\"]\n",
    "uselog_months.head()"
   ]
  },
  {
   "cell_type": "code",
   "execution_count": 20,
   "id": "f5451c59",
   "metadata": {},
   "outputs": [
    {
     "data": {
      "text/html": [
       "<div>\n",
       "<style scoped>\n",
       "    .dataframe tbody tr th:only-of-type {\n",
       "        vertical-align: middle;\n",
       "    }\n",
       "\n",
       "    .dataframe tbody tr th {\n",
       "        vertical-align: top;\n",
       "    }\n",
       "\n",
       "    .dataframe thead th {\n",
       "        text-align: right;\n",
       "    }\n",
       "</style>\n",
       "<table border=\"1\" class=\"dataframe\">\n",
       "  <thead>\n",
       "    <tr style=\"text-align: right;\">\n",
       "      <th></th>\n",
       "      <th>customer_id</th>\n",
       "      <th>mean</th>\n",
       "      <th>median</th>\n",
       "      <th>max</th>\n",
       "      <th>min</th>\n",
       "    </tr>\n",
       "  </thead>\n",
       "  <tbody>\n",
       "    <tr>\n",
       "      <th>0</th>\n",
       "      <td>AS002855</td>\n",
       "      <td>4.500000</td>\n",
       "      <td>5.0</td>\n",
       "      <td>7</td>\n",
       "      <td>2</td>\n",
       "    </tr>\n",
       "    <tr>\n",
       "      <th>1</th>\n",
       "      <td>AS008805</td>\n",
       "      <td>4.000000</td>\n",
       "      <td>4.0</td>\n",
       "      <td>8</td>\n",
       "      <td>1</td>\n",
       "    </tr>\n",
       "    <tr>\n",
       "      <th>2</th>\n",
       "      <td>AS009013</td>\n",
       "      <td>2.000000</td>\n",
       "      <td>2.0</td>\n",
       "      <td>2</td>\n",
       "      <td>2</td>\n",
       "    </tr>\n",
       "    <tr>\n",
       "      <th>3</th>\n",
       "      <td>AS009373</td>\n",
       "      <td>5.083333</td>\n",
       "      <td>5.0</td>\n",
       "      <td>7</td>\n",
       "      <td>3</td>\n",
       "    </tr>\n",
       "    <tr>\n",
       "      <th>4</th>\n",
       "      <td>AS015233</td>\n",
       "      <td>7.545455</td>\n",
       "      <td>7.0</td>\n",
       "      <td>11</td>\n",
       "      <td>4</td>\n",
       "    </tr>\n",
       "  </tbody>\n",
       "</table>\n",
       "</div>"
      ],
      "text/plain": [
       "  customer_id      mean  median  max  min\n",
       "0    AS002855  4.500000     5.0    7    2\n",
       "1    AS008805  4.000000     4.0    8    1\n",
       "2    AS009013  2.000000     2.0    2    2\n",
       "3    AS009373  5.083333     5.0    7    3\n",
       "4    AS015233  7.545455     7.0   11    4"
      ]
     },
     "execution_count": 20,
     "metadata": {},
     "output_type": "execute_result"
    }
   ],
   "source": [
    "uselog_customer = uselog_months.groupby(\"customer_id\").agg([\"mean\", \"median\", \"max\", \"min\"])[\"count\"]\n",
    "uselog_customer = uselog_customer.reset_index(drop=False)\n",
    "uselog_customer.head()"
   ]
  },
  {
   "cell_type": "code",
   "execution_count": null,
   "id": "2fdc4ca6",
   "metadata": {},
   "outputs": [],
   "source": []
  }
 ],
 "metadata": {
  "kernelspec": {
   "display_name": "Python 3 (ipykernel)",
   "language": "python",
   "name": "python3"
  },
  "language_info": {
   "codemirror_mode": {
    "name": "ipython",
    "version": 3
   },
   "file_extension": ".py",
   "mimetype": "text/x-python",
   "name": "python",
   "nbconvert_exporter": "python",
   "pygments_lexer": "ipython3",
   "version": "3.9.12"
  }
 },
 "nbformat": 4,
 "nbformat_minor": 5
}
